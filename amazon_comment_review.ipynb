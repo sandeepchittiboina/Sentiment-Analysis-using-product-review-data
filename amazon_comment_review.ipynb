{
 "cells": [
  {
   "cell_type": "code",
   "execution_count": 1,
   "id": "9c497f3a",
   "metadata": {},
   "outputs": [
    {
     "name": "stderr",
     "output_type": "stream",
     "text": [
      "[nltk_data] Downloading package stopwords to\n",
      "[nltk_data]     /Users/sandeepchittiboina/nltk_data...\n",
      "[nltk_data]   Package stopwords is already up-to-date!\n"
     ]
    }
   ],
   "source": [
    "import numpy as np\n",
    "import pandas as pd\n",
    "import matplotlib.pyplot as plt\n",
    "import seaborn as sns\n",
    "from sklearn.model_selection import train_test_split, GridSearchCV\n",
    "from sklearn.metrics import accuracy_score, confusion_matrix\n",
    "import string\n",
    "from sklearn.feature_extraction.text import TfidfVectorizer\n",
    "from nltk.corpus import stopwords\n",
    "from nltk.stem import PorterStemmer\n",
    "from sklearn.linear_model import LogisticRegression\n",
    "from sklearn.naive_bayes import MultinomialNB\n",
    "import warnings\n",
    "warnings.filterwarnings('ignore')\n",
    "import pickle\n",
    "from bs4 import BeautifulSoup\n",
    "import re\n",
    "import nltk\n",
    "nltk.download('stopwords')\n",
    "from nltk.corpus import stopwords\n",
    "from nltk.stem.wordnet import WordNetLemmatizer"
   ]
  },
  {
   "cell_type": "code",
   "execution_count": 2,
   "id": "ff9f4b72",
   "metadata": {},
   "outputs": [],
   "source": [
    "def plot_confusion_matrix(y_true, y_pred):\n",
    "    cm = confusion_matrix(y_true, y_pred)\n",
    "    plt.figure(figsize=(4,4))\n",
    "    sns.heatmap(cm, cbar=False, cmap='viridis', annot=True, fmt='.0f')\n",
    "    plt.title(\"Confusion matrix\")\n",
    "    plt.xlabel(\"Predicted Label\")\n",
    "    plt.ylabel(\"True Label\")\n",
    "    return plt.show()\n"
   ]
  },
  {
   "cell_type": "code",
   "execution_count": 3,
   "id": "0f2feed0",
   "metadata": {},
   "outputs": [],
   "source": [
    "def get_accuracy_score(model,X_train, y_train, X_test, y_test, return_model=False):\n",
    "    model = model.fit(X_train, y_train)\n",
    "    y_preds_train = model.predict(X_train)\n",
    "    y_preds = model.predict(X_test)\n",
    "    print(\"Train accuracy:\", accuracy_score(y_train, y_preds_train))\n",
    "    print(\"Test accuracy:\", accuracy_score(y_test, y_preds))\n",
    "    print()\n",
    "    return model if return_model==True else None\n",
    "data = pd.read_csv('/Users/sandeepchittiboina/Downloads/archive/Reviews.csv')\n",
    "data.head(3)\n",
    "data.isna().sum().to_frame(name='# Missing values')\n",
    "total_rows =  data.shape[0]\n",
    "data.dropna(how='any',inplace=True)\n",
    "remaining_rows= data.shape[0]\n",
    "removed_rows = total_rows-remaining_rows\n",
    "a =  data.shape[0]\n",
    "data = data.loc[data.Score != 3]\n",
    "b = data.shape[0]\n",
    "data.loc[:, \"Sentiment\"] = data.Score.apply(lambda x : 1 if x > 3 else 0)\n",
    "data = data[[\"Text\", \"Sentiment\"]]\n",
    "a =  data.shape[0]\n",
    "data.drop_duplicates(inplace=True)\n",
    "b = data.shape[0]\n",
    "neg_data = data.loc[data.Sentiment == 0]\n"
   ]
  },
  {
   "cell_type": "code",
   "execution_count": 4,
   "id": "c9698f32",
   "metadata": {},
   "outputs": [],
   "source": [
    "pos_data = data.loc[data.Sentiment == 1][:neg_data.shape[0]]"
   ]
  },
  {
   "cell_type": "code",
   "execution_count": 5,
   "id": "bb6909bd",
   "metadata": {},
   "outputs": [],
   "source": [
    "a = data.shape[0]\n",
    "data = pd.concat([pos_data, neg_data])\n",
    "data = data.sample(frac=1, random_state=1)\n",
    "b = data.shape[0]\n",
    "\n",
    "total_stopwords = set(stopwords.words('english'))\n",
    "negative_stop_words = set(word for word in total_stopwords if \"n't\" in word or 'no' in word)\n",
    "final_stopwords = total_stopwords.symmetric_difference(negative_stop_words)\n",
    "stemmer = PorterStemmer()\n"
   ]
  },
  {
   "cell_type": "code",
   "execution_count": 6,
   "id": "7b0e131a",
   "metadata": {},
   "outputs": [],
   "source": [
    "def preprocessor(review):\n",
    "    HTMLTAGS = re.compile('<.*?>')\n",
    "    review = HTMLTAGS.sub(r'', review)\n",
    "    table = str.maketrans(dict.fromkeys(string.punctuation))\n",
    "    review = review.translate(table)\n",
    "    remove_digits = str.maketrans('', '', string.digits)\n",
    "    review = review.translate(remove_digits)\n",
    "    review = review.lower()\n",
    "    MULTIPLE_WHITESPACE = re.compile(r\"\\s+\")\n",
    "    review = MULTIPLE_WHITESPACE.sub(\" \", review).strip()\n",
    "    review = [word for word in review.split() if word not in final_stopwords]\n",
    "    review = ' '.join([stemmer.stem(word) for word in review])\n",
    "    return review\n"
   ]
  },
  {
   "cell_type": "code",
   "execution_count": 7,
   "id": "54c7ba97",
   "metadata": {},
   "outputs": [],
   "source": [
    "def create_model():\n",
    "\n",
    "\tX = data['Text']\n",
    "\ty = data['Sentiment']\n",
    "\tX = X.apply(preprocessor)\n",
    "\tX_train, X_test, y_train, y_test = train_test_split(X, y, test_size=0.25, random_state=1)\n",
    "\tvectorizer = TfidfVectorizer(max_features=15000)\n",
    "\tvectorizer.fit(X_train)\n",
    "\ttfidf_X_train = vectorizer.transform(X_train)\n",
    "\ttfidf_X_test = vectorizer.transform(X_test)\n",
    "\tfinal_model= get_accuracy_score(MultinomialNB(),tfidf_X_train, y_train, tfidf_X_test, y_test,return_model=True)\n",
    "\ty_pred = final_model.predict(tfidf_X_test)\n",
    "\tplot_confusion_matrix(y_test, y_pred)\n",
    "\n",
    "\twith open(\"tfidf_vectorizer.pkl\", \"wb\") as f:\n",
    "\t    pickle.dump(vectorizer, f)\n",
    "\n",
    "\twith open(\"model.pkl\", \"wb\") as f:\n",
    "\t    pickle.dump(final_model, f)\n"
   ]
  },
  {
   "cell_type": "code",
   "execution_count": 8,
   "id": "295cc54a",
   "metadata": {},
   "outputs": [
    {
     "name": "stdout",
     "output_type": "stream",
     "text": [
      "Requirement already satisfied: NLP-python in /Users/sandeepchittiboina/opt/anaconda3/lib/python3.9/site-packages (1.1.0)\n",
      "Requirement already satisfied: scikit-learn in /Users/sandeepchittiboina/opt/anaconda3/lib/python3.9/site-packages (from NLP-python) (0.24.2)\n",
      "Requirement already satisfied: numpy in /Users/sandeepchittiboina/opt/anaconda3/lib/python3.9/site-packages (from NLP-python) (1.20.3)\n",
      "Requirement already satisfied: pandas in /Users/sandeepchittiboina/opt/anaconda3/lib/python3.9/site-packages (from NLP-python) (1.3.4)\n",
      "Requirement already satisfied: python-dateutil>=2.7.3 in /Users/sandeepchittiboina/opt/anaconda3/lib/python3.9/site-packages (from pandas->NLP-python) (2.8.2)\n",
      "Requirement already satisfied: pytz>=2017.3 in /Users/sandeepchittiboina/opt/anaconda3/lib/python3.9/site-packages (from pandas->NLP-python) (2021.3)\n",
      "Requirement already satisfied: six>=1.5 in /Users/sandeepchittiboina/opt/anaconda3/lib/python3.9/site-packages (from python-dateutil>=2.7.3->pandas->NLP-python) (1.16.0)\n",
      "Requirement already satisfied: scipy>=0.19.1 in /Users/sandeepchittiboina/opt/anaconda3/lib/python3.9/site-packages (from scikit-learn->NLP-python) (1.7.1)\n",
      "Requirement already satisfied: threadpoolctl>=2.0.0 in /Users/sandeepchittiboina/opt/anaconda3/lib/python3.9/site-packages (from scikit-learn->NLP-python) (2.2.0)\n",
      "Requirement already satisfied: joblib>=0.11 in /Users/sandeepchittiboina/opt/anaconda3/lib/python3.9/site-packages (from scikit-learn->NLP-python) (1.1.0)\n",
      "Note: you may need to restart the kernel to use updated packages.\n"
     ]
    }
   ],
   "source": [
    "pip install NLP-python"
   ]
  },
  {
   "cell_type": "code",
   "execution_count": 11,
   "id": "ce94084b",
   "metadata": {},
   "outputs": [
    {
     "name": "stdout",
     "output_type": "stream",
     "text": [
      "Train accuracy: 0.8815798696292143\n",
      "Test accuracy: 0.8618139763089647\n",
      "\n"
     ]
    },
    {
     "data": {
      "image/png": "[encoded data removed]",
      "text/plain": [
       "<Figure size 288x288 with 1 Axes>"
      ]
     },
     "metadata": {
      "needs_background": "light"
     },
     "output_type": "display_data"
    }
   ],
   "source": [
    "create_model()"
   ]
  },
  {
   "cell_type": "code",
   "execution_count": null,
   "id": "c9bbfa2e",
   "metadata": {},
   "outputs": [
    {
     "name": "stdout",
     "output_type": "stream",
     "text": [
      "Enter review: this movie was bad\n",
      "1\n",
      "Enter review: this movie was good\n",
      "1\n",
      "Enter review: good\n",
      "1\n",
      "Enter review: bad\n",
      "0\n",
      "Enter review: its very bad\n",
      "0\n",
      "Enter review: worst movie\n",
      "0\n",
      "Enter review: best movie ever\n",
      "1\n"
     ]
    }
   ],
   "source": [
    "import pickle\n",
    "from sklearn.feature_extraction.text import TfidfVectorizer\n",
    "#from NLP import preprocessor\n",
    "from NLP import NLP\n",
    "nlp = NLP()\n",
    "\n",
    "\n",
    "\n",
    "with open(\"tfidf_vectorizer.pkl\", \"rb\") as f:\n",
    "    vectorizer = pickle.load(f)\n",
    "\n",
    "with open(\"model.pkl\", \"rb\") as f:\n",
    "    model = pickle.load(f)\n",
    "\n",
    "def pred(text):\n",
    "    review = preprocessor(text)\n",
    "    x = vectorizer.transform([review])\n",
    "    y = model.predict(x)[0]\n",
    "    return y\n",
    "\n",
    "while(1):\n",
    "\ts = input(\"Enter review: \")\n",
    "\tif(s == \"exit\"):\n",
    "\t\tbreak\n",
    "\tprint(pred(s))\n"
   ]
  },
  {
   "cell_type": "markdown",
   "id": "0eb0dc36",
   "metadata": {},
   "source": []
  }
 ],
 "metadata": {
  "kernelspec": {
   "display_name": "Python 3.9.7 64-bit ('base': conda)",
   "language": "python",
   "name": "python397jvsc74a57bd012416e96df749d250f731e13204b664307851ffb935aa5094b1e6273737e89d5"
  },
  "language_info": {
   "codemirror_mode": {
    "name": "ipython",
    "version": 3
   },
   "file_extension": ".py",
   "mimetype": "text/x-python",
   "name": "python",
   "nbconvert_exporter": "python",
   "pygments_lexer": "ipython3",
   "version": "3.9.7"
  }
 },
 "nbformat": 4,
 "nbformat_minor": 5
}
